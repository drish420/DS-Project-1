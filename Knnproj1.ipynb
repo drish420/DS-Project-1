{
  "nbformat": 4,
  "nbformat_minor": 0,
  "metadata": {
    "colab": {
      "name": "Knnproj1.ipynb",
      "provenance": [],
      "collapsed_sections": [],
      "authorship_tag": "ABX9TyP0EUZzq6nQpJBBk6W9bdZo",
      "include_colab_link": true
    },
    "kernelspec": {
      "name": "python3",
      "display_name": "Python 3"
    },
    "language_info": {
      "name": "python"
    }
  },
  "cells": [
    {
      "cell_type": "markdown",
      "metadata": {
        "id": "view-in-github",
        "colab_type": "text"
      },
      "source": [
        "<a href=\"https://colab.research.google.com/github/drish420/DS-Project-1/blob/main/Knnproj1.ipynb\" target=\"_parent\"><img src=\"https://colab.research.google.com/assets/colab-badge.svg\" alt=\"Open In Colab\"/></a>"
      ]
    },
    {
      "cell_type": "code",
      "metadata": {
        "id": "SaNldd3WHN2f"
      },
      "source": [
        "import numpy as np\n",
        "import matplotlib.pyplot as plt\n",
        "import pandas as pd"
      ],
      "execution_count": 8,
      "outputs": []
    },
    {
      "cell_type": "code",
      "metadata": {
        "id": "Z8BuWoFkKXMP"
      },
      "source": [
        "from sklearn import model_selection\n",
        "from sklearn.neighbors import KNeighborsClassifier as knn\n",
        "from sklearn.metrics import accuracy_score\n",
        "from sklearn import metrics"
      ],
      "execution_count": 26,
      "outputs": []
    },
    {
      "cell_type": "code",
      "metadata": {
        "id": "Hv6EjuY0QKgT"
      },
      "source": [
        "dataset = pd.read_csv(\"/content/sample_data/mnist_train_small.csv\")\n"
      ],
      "execution_count": 10,
      "outputs": []
    },
    {
      "cell_type": "code",
      "metadata": {
        "colab": {
          "base_uri": "https://localhost:8080/"
        },
        "id": "4G5hGYUWQY6M",
        "outputId": "348b5b4e-986d-40e7-bf7f-ae00a1c845dd"
      },
      "source": [
        "data = dataset.values[:15000]\n",
        "data.shape"
      ],
      "execution_count": 11,
      "outputs": [
        {
          "output_type": "execute_result",
          "data": {
            "text/plain": [
              "(15000, 785)"
            ]
          },
          "metadata": {
            "tags": []
          },
          "execution_count": 11
        }
      ]
    },
    {
      "cell_type": "code",
      "metadata": {
        "id": "17z0pkkkYLx-"
      },
      "source": [
        "a, b = data[:,1:], data[:, 0]"
      ],
      "execution_count": 12,
      "outputs": []
    },
    {
      "cell_type": "code",
      "metadata": {
        "colab": {
          "base_uri": "https://localhost:8080/"
        },
        "id": "qKcc5S4cYjv-",
        "outputId": "779dc492-eb04-4176-be6e-3de6874cac08"
      },
      "source": [
        "a_train, a_test=a[:500],a[500:]\n",
        "b_train,b_test=b[:500],b[500:]\n",
        "print(a_train.shape, b_train.shape)\n",
        "print(a_test.shape, b_test.shape)\n",
        "print(b_train)\n",
        "print(b_test)"
      ],
      "execution_count": 13,
      "outputs": [
        {
          "output_type": "stream",
          "text": [
            "(5000, 784) (5000,)\n",
            "(10000, 784) (10000,)\n",
            "[5 7 9 ... 8 2 5]\n",
            "[1 9 5 ... 7 3 5]\n"
          ],
          "name": "stdout"
        }
      ]
    },
    {
      "cell_type": "code",
      "metadata": {
        "id": "00Q1-NkPGGIw"
      },
      "source": [
        "#Elbow Method\n",
        "def elbow(k):\n",
        "\n",
        "    \n",
        "    error_test = []\n",
        "\n",
        "   \n",
        "    for i in k:\n",
        "       \n",
        "        model = knn(n_neighbors=i)\n",
        "        model.fit(a_train,b_train)\n",
        "         \n",
        "        tmp =model.predict(a_test)\n",
        "        tmp = metrics.accuracy_score(tmp,b_test)\n",
        "        error = 1-tmp\n",
        "        error_test.append(error)\n",
        "    return error_test\n",
        "k = range(1,10)\n",
        "test = elbow(k)\n",
        "plt.plot(k, test)\n",
        "plt.xlabel('K Neighbors')\n",
        "plt.ylabel('Test error')\n",
        "plt.title('Elbow curve for test')\n",
        "plt.show"
      ],
      "execution_count": null,
      "outputs": []
    },
    {
      "cell_type": "code",
      "metadata": {
        "colab": {
          "base_uri": "https://localhost:8080/",
          "height": 265
        },
        "id": "YLFIfzydYy1c",
        "outputId": "c0bcaabb-f0d2-4386-d3be-fed9829ef24b"
      },
      "source": [
        "randomdigit=a[499]\n",
        "\n",
        "randomdigit_img=randomdigit.reshape((28,28))\n",
        "plt.figure()\n",
        "plt.imshow(randomdigit_img,cmap='PuRd')\n",
        "plt.show()"
      ],
      "execution_count": 14,
      "outputs": [
        {
          "output_type": "display_data",
          "data": {
            "image/png": "[encoded data removed]",
            "text/plain": [
              "<Figure size 432x288 with 1 Axes>"
            ]
          },
          "metadata": {
            "tags": [],
            "needs_background": "light"
          }
        }
      ]
    },
    {
      "cell_type": "code",
      "metadata": {
        "colab": {
          "base_uri": "https://localhost:8080/"
        },
        "id": "xTwPViYRZa1Z",
        "outputId": "c7f1e322-7632-4982-e5b7-b88539fd6aad"
      },
      "source": [
        "model = KNeighborsClassifier(n_neighbors=5)\n",
        "model.fit(a_train,b_train)"
      ],
      "execution_count": 15,
      "outputs": [
        {
          "output_type": "execute_result",
          "data": {
            "text/plain": [
              "KNeighborsClassifier(algorithm='auto', leaf_size=30, metric='minkowski',\n",
              "                     metric_params=None, n_jobs=None, n_neighbors=5, p=2,\n",
              "                     weights='uniform')"
            ]
          },
          "metadata": {
            "tags": []
          },
          "execution_count": 15
        }
      ]
    },
    {
      "cell_type": "code",
      "metadata": {
        "colab": {
          "base_uri": "https://localhost:8080/"
        },
        "id": "HyzhMAQDaMIG",
        "outputId": "b7dd500b-d002-4153-c1e7-e54df6b3bd21"
      },
      "source": [
        "model.score(a_test, b_test)"
      ],
      "execution_count": 16,
      "outputs": [
        {
          "output_type": "execute_result",
          "data": {
            "text/plain": [
              "0.9313"
            ]
          },
          "metadata": {
            "tags": []
          },
          "execution_count": 16
        }
      ]
    },
    {
      "cell_type": "code",
      "metadata": {
        "colab": {
          "base_uri": "https://localhost:8080/"
        },
        "id": "QXZwKasMaTqB",
        "outputId": "d0ea1b2c-3ad2-4bf9-e300-232b1e208848"
      },
      "source": [
        "test_data = dataset.values\n",
        "test_images = test_data[:10]\n",
        "test_images.shape\n"
      ],
      "execution_count": 17,
      "outputs": [
        {
          "output_type": "execute_result",
          "data": {
            "text/plain": [
              "(10, 785)"
            ]
          },
          "metadata": {
            "tags": []
          },
          "execution_count": 17
        }
      ]
    },
    {
      "cell_type": "code",
      "metadata": {
        "colab": {
          "base_uri": "https://localhost:8080/"
        },
        "id": "NJ83fAXEaZRC",
        "outputId": "bc8895d3-a36c-4c3c-f84c-736a9788ea49"
      },
      "source": [
        "prediction=model.predict([randomdigit])\n",
        "print(prediction)"
      ],
      "execution_count": 18,
      "outputs": [
        {
          "output_type": "stream",
          "text": [
            "[5]\n"
          ],
          "name": "stdout"
        }
      ]
    },
    {
      "cell_type": "code",
      "metadata": {
        "id": "pG0jxnpxhTBi"
      },
      "source": [
        ""
      ],
      "execution_count": 20,
      "outputs": []
    },
    {
      "cell_type": "code",
      "metadata": {
        "id": "tSMHzpGPaiJG"
      },
      "source": [
        ""
      ],
      "execution_count": 20,
      "outputs": []
    }
  ]
}